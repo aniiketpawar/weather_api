{
 "cells": [
  {
   "cell_type": "code",
   "execution_count": 1,
   "id": "050012aa",
   "metadata": {
    "ExecuteTime": {
     "end_time": "2023-11-16T10:32:12.909630Z",
     "start_time": "2023-11-16T10:32:12.783082Z"
    }
   },
   "outputs": [],
   "source": [
    "import requests"
   ]
  },
  {
   "cell_type": "code",
   "execution_count": 7,
   "id": "fbeb059e",
   "metadata": {
    "ExecuteTime": {
     "end_time": "2023-11-16T10:37:53.665313Z",
     "start_time": "2023-11-16T10:37:41.858432Z"
    }
   },
   "outputs": [
    {
     "name": "stdout",
     "output_type": "stream",
     "text": [
      "Enter a city name: London\n",
      "Weather:  scattered clouds\n",
      "Temperature:  6.75 Celsius\n"
     ]
    }
   ],
   "source": [
    "API_KEY = \"49544b79f48b821668b4ef8c5ffd4835\"\n",
    "BASE_URL = \"https://api.openweathermap.org/data/2.5/weather\"\n",
    "\n",
    "city = input(\"Enter a city name: \")\n",
    "request_url = f\"{BASE_URL}?appid={API_KEY}&q={city}\"\n",
    "response = requests.get(request_url)\n",
    "\n",
    "if response.status_code == 200:\n",
    "    data = response.json()\n",
    "    weather = data['weather'][0]['description']\n",
    "    temperature = round(data[\"main\"][\"temp\"] - 273.15, 2)\n",
    "\n",
    "    print(\"Weather: \", weather)\n",
    "    print(\"Temperature: \", temperature, \"Celsius\")\n",
    "else:\n",
    "    print(\"ERROR 404\")"
   ]
  },
  {
   "cell_type": "code",
   "execution_count": null,
   "id": "f4d21914",
   "metadata": {},
   "outputs": [],
   "source": []
  }
 ],
 "metadata": {
  "kernelspec": {
   "display_name": "Python 3 (ipykernel)",
   "language": "python",
   "name": "python3"
  },
  "language_info": {
   "codemirror_mode": {
    "name": "ipython",
    "version": 3
   },
   "file_extension": ".py",
   "mimetype": "text/x-python",
   "name": "python",
   "nbconvert_exporter": "python",
   "pygments_lexer": "ipython3",
   "version": "3.9.12"
  }
 },
 "nbformat": 4,
 "nbformat_minor": 5
}
